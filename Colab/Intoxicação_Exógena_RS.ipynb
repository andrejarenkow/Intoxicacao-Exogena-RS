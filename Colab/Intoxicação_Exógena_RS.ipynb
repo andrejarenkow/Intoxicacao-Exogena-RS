{
  "nbformat": 4,
  "nbformat_minor": 0,
  "metadata": {
    "colab": {
      "name": "Intoxicação Exógena RS.ipynb",
      "provenance": [],
      "authorship_tag": "ABX9TyNjXxnNpgMJGzpTgPRzBQ80",
      "include_colab_link": true
    },
    "kernelspec": {
      "name": "python3",
      "display_name": "Python 3"
    },
    "language_info": {
      "name": "python"
    }
  },
  "cells": [
    {
      "cell_type": "markdown",
      "metadata": {
        "id": "view-in-github",
        "colab_type": "text"
      },
      "source": [
        "<a href=\"https://colab.research.google.com/github/decao88/Intoxicacao-Exogena-RS/blob/main/Colab/Intoxica%C3%A7%C3%A3o_Ex%C3%B3gena_RS.ipynb\" target=\"_parent\"><img src=\"https://colab.research.google.com/assets/colab-badge.svg\" alt=\"Open In Colab\"/></a>"
      ]
    },
    {
      "cell_type": "code",
      "metadata": {
        "id": "VfwhVtxbq41m"
      },
      "source": [
        ""
      ],
      "execution_count": null,
      "outputs": []
    }
  ]
}